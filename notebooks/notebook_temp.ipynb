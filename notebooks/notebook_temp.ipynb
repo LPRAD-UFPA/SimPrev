{
 "cells": [
  {
   "cell_type": "code",
   "execution_count": 99,
   "metadata": {
    "collapsed": false
   },
   "outputs": [],
   "source": [
    "import pandas as pd\n",
    "\n",
    "ano = 2014\n",
    "arq_ativos = '../datasets/DATAPREV/{0}/despesas/ativ_{0}_quantidade.xls'.format(ano)\n",
    "\n",
    "# Carrega os dados\n",
    "# skiprows: pula as 6 primeiras linhas \n",
    "# usecols: selecionando as colunas Masculino e Feminino do tipo Urbano e Rural\n",
    "# index_col: define a primeira coluna como o index\n",
    "\n",
    "ativos = pd.read_excel(arq_ativos, skiprows=6, usecols=[1,3,4,7,8], index_col = 0)\n",
    "ativos.drop(['Ignorado','Total'], inplace=True)\n",
    "ativos.columns = ['M_U','F_U','M_R','M_R' ]\n",
    "\n",
    "# Dados de 89 anos estão ausentes para os ativos\n",
    "ap_id = ativos.iloc[0:90]\n",
    "ap_inv = ativos.iloc[90:180]\n",
    "ap_tc = ativos.iloc[180:270]\n",
    "\n",
    "ap_inv.index = [i for i in range(0,90)]\n",
    "\n",
    "\n",
    "\n"
   ]
  },
  {
   "cell_type": "code",
   "execution_count": 103,
   "metadata": {
    "collapsed": false
   },
   "outputs": [
    {
     "data": {
      "text/plain": [
       "count       90.000000\n",
       "mean     16817.044444\n",
       "std      18283.612912\n",
       "min          0.000000\n",
       "25%        215.250000\n",
       "50%       9518.500000\n",
       "75%      29921.250000\n",
       "max      55770.000000\n",
       "Name: M_U, dtype: float64"
      ]
     },
     "execution_count": 103,
     "metadata": {},
     "output_type": "execute_result"
    }
   ],
   "source": [
    "ap_inv['M_U'].describe()"
   ]
  },
  {
   "cell_type": "code",
   "execution_count": null,
   "metadata": {
    "collapsed": true
   },
   "outputs": [],
   "source": []
  }
 ],
 "metadata": {
  "anaconda-cloud": {},
  "kernelspec": {
   "display_name": "Python [default]",
   "language": "python",
   "name": "python3"
  },
  "language_info": {
   "codemirror_mode": {
    "name": "ipython",
    "version": 3
   },
   "file_extension": ".py",
   "mimetype": "text/x-python",
   "name": "python",
   "nbconvert_exporter": "python",
   "pygments_lexer": "ipython3",
   "version": "3.5.2"
  }
 },
 "nbformat": 4,
 "nbformat_minor": 2
}
